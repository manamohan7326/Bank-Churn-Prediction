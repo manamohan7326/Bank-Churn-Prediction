{
 "cells": [
  {
   "cell_type": "code",
   "execution_count": 1,
   "id": "ea195dc8",
   "metadata": {},
   "outputs": [],
   "source": [
    "import numpy as np\n",
    "import pandas as pd\n",
    "import matplotlib.pyplot as plt\n",
    "import seaborn  as sns\n",
    "\n",
    "import warnings\n",
    "warnings.filterwarnings(\"ignore\")"
   ]
  },
  {
   "cell_type": "code",
   "execution_count": 2,
   "id": "162bcabe",
   "metadata": {},
   "outputs": [],
   "source": [
    "df = pd.read_csv(\"Bank_churn_model.csv\")"
   ]
  },
  {
   "cell_type": "code",
   "execution_count": 3,
   "id": "f3628acf",
   "metadata": {},
   "outputs": [
    {
     "data": {
      "text/html": [
       "<div>\n",
       "<style scoped>\n",
       "    .dataframe tbody tr th:only-of-type {\n",
       "        vertical-align: middle;\n",
       "    }\n",
       "\n",
       "    .dataframe tbody tr th {\n",
       "        vertical-align: top;\n",
       "    }\n",
       "\n",
       "    .dataframe thead th {\n",
       "        text-align: right;\n",
       "    }\n",
       "</style>\n",
       "<table border=\"1\" class=\"dataframe\">\n",
       "  <thead>\n",
       "    <tr style=\"text-align: right;\">\n",
       "      <th></th>\n",
       "      <th>CreditScore</th>\n",
       "      <th>Geography</th>\n",
       "      <th>Gender</th>\n",
       "      <th>Age</th>\n",
       "      <th>Tenure</th>\n",
       "      <th>Balance</th>\n",
       "      <th>NumOfProducts</th>\n",
       "      <th>HasCrCard</th>\n",
       "      <th>IsActiveMember</th>\n",
       "      <th>EstimatedSalary</th>\n",
       "      <th>Exited</th>\n",
       "    </tr>\n",
       "  </thead>\n",
       "  <tbody>\n",
       "    <tr>\n",
       "      <th>0</th>\n",
       "      <td>619</td>\n",
       "      <td>France</td>\n",
       "      <td>Female</td>\n",
       "      <td>young Adult</td>\n",
       "      <td>3</td>\n",
       "      <td>30176.6875</td>\n",
       "      <td>1</td>\n",
       "      <td>1</td>\n",
       "      <td>1</td>\n",
       "      <td>101348.88</td>\n",
       "      <td>1</td>\n",
       "    </tr>\n",
       "    <tr>\n",
       "      <th>1</th>\n",
       "      <td>608</td>\n",
       "      <td>Spain</td>\n",
       "      <td>Female</td>\n",
       "      <td>young Adult</td>\n",
       "      <td>1</td>\n",
       "      <td>83807.8600</td>\n",
       "      <td>1</td>\n",
       "      <td>0</td>\n",
       "      <td>1</td>\n",
       "      <td>112542.58</td>\n",
       "      <td>0</td>\n",
       "    </tr>\n",
       "    <tr>\n",
       "      <th>2</th>\n",
       "      <td>502</td>\n",
       "      <td>France</td>\n",
       "      <td>Female</td>\n",
       "      <td>young Adult</td>\n",
       "      <td>10</td>\n",
       "      <td>159660.8000</td>\n",
       "      <td>4</td>\n",
       "      <td>1</td>\n",
       "      <td>0</td>\n",
       "      <td>113931.57</td>\n",
       "      <td>1</td>\n",
       "    </tr>\n",
       "    <tr>\n",
       "      <th>3</th>\n",
       "      <td>850</td>\n",
       "      <td>Spain</td>\n",
       "      <td>Female</td>\n",
       "      <td>young Adult</td>\n",
       "      <td>3</td>\n",
       "      <td>125510.8200</td>\n",
       "      <td>1</td>\n",
       "      <td>1</td>\n",
       "      <td>1</td>\n",
       "      <td>79084.10</td>\n",
       "      <td>0</td>\n",
       "    </tr>\n",
       "    <tr>\n",
       "      <th>4</th>\n",
       "      <td>645</td>\n",
       "      <td>Spain</td>\n",
       "      <td>Male</td>\n",
       "      <td>young Adult</td>\n",
       "      <td>10</td>\n",
       "      <td>113755.7800</td>\n",
       "      <td>2</td>\n",
       "      <td>1</td>\n",
       "      <td>0</td>\n",
       "      <td>149756.71</td>\n",
       "      <td>1</td>\n",
       "    </tr>\n",
       "  </tbody>\n",
       "</table>\n",
       "</div>"
      ],
      "text/plain": [
       "   CreditScore Geography  Gender          Age  Tenure      Balance  \\\n",
       "0          619    France  Female  young Adult       3   30176.6875   \n",
       "1          608     Spain  Female  young Adult       1   83807.8600   \n",
       "2          502    France  Female  young Adult      10  159660.8000   \n",
       "3          850     Spain  Female  young Adult       3  125510.8200   \n",
       "4          645     Spain    Male  young Adult      10  113755.7800   \n",
       "\n",
       "   NumOfProducts  HasCrCard  IsActiveMember  EstimatedSalary  Exited  \n",
       "0              1          1               1        101348.88       1  \n",
       "1              1          0               1        112542.58       0  \n",
       "2              4          1               0        113931.57       1  \n",
       "3              1          1               1         79084.10       0  \n",
       "4              2          1               0        149756.71       1  "
      ]
     },
     "execution_count": 3,
     "metadata": {},
     "output_type": "execute_result"
    }
   ],
   "source": [
    "df.head()"
   ]
  },
  {
   "cell_type": "code",
   "execution_count": 4,
   "id": "55f6f775",
   "metadata": {},
   "outputs": [
    {
     "name": "stdout",
     "output_type": "stream",
     "text": [
      "<class 'pandas.core.frame.DataFrame'>\n",
      "RangeIndex: 6883 entries, 0 to 6882\n",
      "Data columns (total 11 columns):\n",
      " #   Column           Non-Null Count  Dtype  \n",
      "---  ------           --------------  -----  \n",
      " 0   CreditScore      6883 non-null   int64  \n",
      " 1   Geography        6883 non-null   object \n",
      " 2   Gender           6883 non-null   object \n",
      " 3   Age              6883 non-null   object \n",
      " 4   Tenure           6883 non-null   int64  \n",
      " 5   Balance          6883 non-null   float64\n",
      " 6   NumOfProducts    6883 non-null   int64  \n",
      " 7   HasCrCard        6883 non-null   int64  \n",
      " 8   IsActiveMember   6883 non-null   int64  \n",
      " 9   EstimatedSalary  6883 non-null   float64\n",
      " 10  Exited           6883 non-null   int64  \n",
      "dtypes: float64(2), int64(6), object(3)\n",
      "memory usage: 591.6+ KB\n"
     ]
    }
   ],
   "source": [
    "df.info()"
   ]
  },
  {
   "cell_type": "code",
   "execution_count": 5,
   "id": "e243ba9d",
   "metadata": {},
   "outputs": [],
   "source": [
    "x = df.drop(columns=[\"Exited\"])\n",
    "x= pd.get_dummies(x,drop_first=True)\n",
    "y = df[\"Exited\"]"
   ]
  },
  {
   "cell_type": "code",
   "execution_count": 6,
   "id": "e370e9e7",
   "metadata": {},
   "outputs": [],
   "source": [
    "### using Train test split, we separate the data as 80% of traing 20% of testing\n",
    "\n",
    "from sklearn.model_selection import train_test_split\n",
    "x_train,x_test,y_train,y_test = train_test_split(x,y,train_size=0.8,random_state=45)"
   ]
  },
  {
   "cell_type": "code",
   "execution_count": 7,
   "id": "d134d6e4",
   "metadata": {},
   "outputs": [
    {
     "name": "stdout",
     "output_type": "stream",
     "text": [
      "Exited\n",
      "0    3891\n",
      "1    1615\n",
      "Name: count, dtype: int64\n"
     ]
    },
    {
     "data": {
      "text/plain": [
       "((5506, 13), (5506,))"
      ]
     },
     "execution_count": 7,
     "metadata": {},
     "output_type": "execute_result"
    }
   ],
   "source": [
    "print(y_train.value_counts())\n",
    "x_train.shape,y_train.shape"
   ]
  },
  {
   "cell_type": "markdown",
   "id": "e5ee5f1c",
   "metadata": {},
   "source": [
    "### SMTE"
   ]
  },
  {
   "cell_type": "code",
   "execution_count": 8,
   "id": "b944f7bc",
   "metadata": {},
   "outputs": [],
   "source": [
    "## Here is output is unbalance, so we covert same \n",
    "\n",
    "from imblearn.over_sampling import SMOTE\n",
    "sm  = SMOTE(random_state=12, sampling_strategy = 1.0)\n",
    "x_train_res,y_train_res = sm.fit_resample(x_train,y_train)"
   ]
  },
  {
   "cell_type": "code",
   "execution_count": 9,
   "id": "6b93f760",
   "metadata": {},
   "outputs": [
    {
     "data": {
      "text/plain": [
       "Exited\n",
       "0    3891\n",
       "1    3891\n",
       "Name: count, dtype: int64"
      ]
     },
     "execution_count": 9,
     "metadata": {},
     "output_type": "execute_result"
    }
   ],
   "source": [
    "y_train_res.value_counts()"
   ]
  },
  {
   "cell_type": "markdown",
   "id": "8a2c04e2",
   "metadata": {},
   "source": [
    "### Logistic Regression"
   ]
  },
  {
   "cell_type": "code",
   "execution_count": 10,
   "id": "8f357ea1",
   "metadata": {},
   "outputs": [
    {
     "name": "stdout",
     "output_type": "stream",
     "text": [
      "Accuracy of train :  0.5931710860879041\n",
      "Accuracy of test :  0.6020334059549746\n"
     ]
    },
    {
     "data": {
      "text/plain": [
       "0.772045629190522"
      ]
     },
     "execution_count": 10,
     "metadata": {},
     "output_type": "execute_result"
    }
   ],
   "source": [
    "from sklearn.linear_model import LogisticRegression\n",
    "log_model = LogisticRegression()\n",
    "log_model.fit(x_train_res,y_train_res)\n",
    "\n",
    "## Predict the model\n",
    "ypred_train = log_model.predict(x_train)\n",
    "ypred_test  = log_model.predict(x_test)\n",
    "\n",
    "from sklearn.metrics import accuracy_score\n",
    "print(\"Accuracy of train : \",accuracy_score(y_train,ypred_train))\n",
    "print(\"Accuracy of test : \", accuracy_score(y_test,ypred_test))\n",
    "\n",
    "## Cross Validation\n",
    "from sklearn.model_selection import cross_val_score\n",
    "scores = cross_val_score(log_model,x,y,cv=5)\n",
    "scores.mean()"
   ]
  },
  {
   "cell_type": "markdown",
   "id": "f29dc81c",
   "metadata": {},
   "source": [
    "### DecisionTreeClassifier"
   ]
  },
  {
   "cell_type": "code",
   "execution_count": 11,
   "id": "c972f8f2",
   "metadata": {},
   "outputs": [
    {
     "name": "stdout",
     "output_type": "stream",
     "text": [
      "Train accuracy : 1.0\n",
      "Test accuracy  :  0.7429193899782135\n",
      "Cross val score :  0.7634737422100624\n"
     ]
    }
   ],
   "source": [
    "### fit the model \n",
    "from sklearn.tree import DecisionTreeClassifier\n",
    "model = DecisionTreeClassifier()\n",
    "model.fit(x_train_res,y_train_res)\n",
    "\n",
    "\n",
    "## Prediction\n",
    "ypred_train = model.predict(x_train)\n",
    "ypred_test  = model.predict(x_test)\n",
    "\n",
    "### Evaluation\n",
    "from sklearn.metrics import accuracy_score\n",
    "print(\"Train accuracy :\", accuracy_score(y_train,ypred_train))\n",
    "print(\"Test accuracy  : \", accuracy_score(y_test,ypred_test))\n",
    "\n",
    "## Check cross validation score\n",
    "from sklearn.model_selection import cross_val_score\n",
    "print(\"Cross val score : \", cross_val_score(model,x,y,cv=5).mean())"
   ]
  },
  {
   "cell_type": "markdown",
   "id": "6f0e5b3e",
   "metadata": {},
   "source": [
    "### Hyperparameter tuning"
   ]
  },
  {
   "cell_type": "code",
   "execution_count": 12,
   "id": "e98c13ee",
   "metadata": {},
   "outputs": [
    {
     "name": "stdout",
     "output_type": "stream",
     "text": [
      "{'criterion': 'entropy', 'max_depth': 9}\n"
     ]
    }
   ],
   "source": [
    "from sklearn.model_selection import GridSearchCV\n",
    "\n",
    "### Estimator\n",
    "\n",
    "estimator = DecisionTreeClassifier(random_state=0)\n",
    "\n",
    "param_grid = {\"criterion\":[\"gini\", \"entropy\"],\n",
    "              \"max_depth\":[1,2,3,4,5,6,7,8,9,10,11]}\n",
    "\n",
    "grid = GridSearchCV(estimator,param_grid,scoring=\"accuracy\",cv=5)\n",
    "\n",
    "grid.fit(x_train_res,y_train_res)\n",
    "i = grid.best_params_\n",
    "print(i)"
   ]
  },
  {
   "cell_type": "code",
   "execution_count": 13,
   "id": "e876c12d",
   "metadata": {},
   "outputs": [
    {
     "data": {
      "text/html": [
       "<style>#sk-container-id-1 {color: black;}#sk-container-id-1 pre{padding: 0;}#sk-container-id-1 div.sk-toggleable {background-color: white;}#sk-container-id-1 label.sk-toggleable__label {cursor: pointer;display: block;width: 100%;margin-bottom: 0;padding: 0.3em;box-sizing: border-box;text-align: center;}#sk-container-id-1 label.sk-toggleable__label-arrow:before {content: \"▸\";float: left;margin-right: 0.25em;color: #696969;}#sk-container-id-1 label.sk-toggleable__label-arrow:hover:before {color: black;}#sk-container-id-1 div.sk-estimator:hover label.sk-toggleable__label-arrow:before {color: black;}#sk-container-id-1 div.sk-toggleable__content {max-height: 0;max-width: 0;overflow: hidden;text-align: left;background-color: #f0f8ff;}#sk-container-id-1 div.sk-toggleable__content pre {margin: 0.2em;color: black;border-radius: 0.25em;background-color: #f0f8ff;}#sk-container-id-1 input.sk-toggleable__control:checked~div.sk-toggleable__content {max-height: 200px;max-width: 100%;overflow: auto;}#sk-container-id-1 input.sk-toggleable__control:checked~label.sk-toggleable__label-arrow:before {content: \"▾\";}#sk-container-id-1 div.sk-estimator input.sk-toggleable__control:checked~label.sk-toggleable__label {background-color: #d4ebff;}#sk-container-id-1 div.sk-label input.sk-toggleable__control:checked~label.sk-toggleable__label {background-color: #d4ebff;}#sk-container-id-1 input.sk-hidden--visually {border: 0;clip: rect(1px 1px 1px 1px);clip: rect(1px, 1px, 1px, 1px);height: 1px;margin: -1px;overflow: hidden;padding: 0;position: absolute;width: 1px;}#sk-container-id-1 div.sk-estimator {font-family: monospace;background-color: #f0f8ff;border: 1px dotted black;border-radius: 0.25em;box-sizing: border-box;margin-bottom: 0.5em;}#sk-container-id-1 div.sk-estimator:hover {background-color: #d4ebff;}#sk-container-id-1 div.sk-parallel-item::after {content: \"\";width: 100%;border-bottom: 1px solid gray;flex-grow: 1;}#sk-container-id-1 div.sk-label:hover label.sk-toggleable__label {background-color: #d4ebff;}#sk-container-id-1 div.sk-serial::before {content: \"\";position: absolute;border-left: 1px solid gray;box-sizing: border-box;top: 0;bottom: 0;left: 50%;z-index: 0;}#sk-container-id-1 div.sk-serial {display: flex;flex-direction: column;align-items: center;background-color: white;padding-right: 0.2em;padding-left: 0.2em;position: relative;}#sk-container-id-1 div.sk-item {position: relative;z-index: 1;}#sk-container-id-1 div.sk-parallel {display: flex;align-items: stretch;justify-content: center;background-color: white;position: relative;}#sk-container-id-1 div.sk-item::before, #sk-container-id-1 div.sk-parallel-item::before {content: \"\";position: absolute;border-left: 1px solid gray;box-sizing: border-box;top: 0;bottom: 0;left: 50%;z-index: -1;}#sk-container-id-1 div.sk-parallel-item {display: flex;flex-direction: column;z-index: 1;position: relative;background-color: white;}#sk-container-id-1 div.sk-parallel-item:first-child::after {align-self: flex-end;width: 50%;}#sk-container-id-1 div.sk-parallel-item:last-child::after {align-self: flex-start;width: 50%;}#sk-container-id-1 div.sk-parallel-item:only-child::after {width: 0;}#sk-container-id-1 div.sk-dashed-wrapped {border: 1px dashed gray;margin: 0 0.4em 0.5em 0.4em;box-sizing: border-box;padding-bottom: 0.4em;background-color: white;}#sk-container-id-1 div.sk-label label {font-family: monospace;font-weight: bold;display: inline-block;line-height: 1.2em;}#sk-container-id-1 div.sk-label-container {text-align: center;}#sk-container-id-1 div.sk-container {/* jupyter's `normalize.less` sets `[hidden] { display: none; }` but bootstrap.min.css set `[hidden] { display: none !important; }` so we also need the `!important` here to be able to override the default hidden behavior on the sphinx rendered scikit-learn.org. See: https://github.com/scikit-learn/scikit-learn/issues/21755 */display: inline-block !important;position: relative;}#sk-container-id-1 div.sk-text-repr-fallback {display: none;}</style><div id=\"sk-container-id-1\" class=\"sk-top-container\"><div class=\"sk-text-repr-fallback\"><pre>DecisionTreeClassifier(criterion=&#x27;entropy&#x27;, max_depth=9)</pre><b>In a Jupyter environment, please rerun this cell to show the HTML representation or trust the notebook. <br />On GitHub, the HTML representation is unable to render, please try loading this page with nbviewer.org.</b></div><div class=\"sk-container\" hidden><div class=\"sk-item\"><div class=\"sk-estimator sk-toggleable\"><input class=\"sk-toggleable__control sk-hidden--visually\" id=\"sk-estimator-id-1\" type=\"checkbox\" checked><label for=\"sk-estimator-id-1\" class=\"sk-toggleable__label sk-toggleable__label-arrow\">DecisionTreeClassifier</label><div class=\"sk-toggleable__content\"><pre>DecisionTreeClassifier(criterion=&#x27;entropy&#x27;, max_depth=9)</pre></div></div></div></div></div>"
      ],
      "text/plain": [
       "DecisionTreeClassifier(criterion='entropy', max_depth=9)"
      ]
     },
     "execution_count": 13,
     "metadata": {},
     "output_type": "execute_result"
    }
   ],
   "source": [
    "## Here maxmimum depth is 9 and using entropy\n",
    "##\n",
    "hpmodel = DecisionTreeClassifier(criterion=\"entropy\",max_depth=9)\n",
    "hpmodel.fit(x_train_res,y_train_res)"
   ]
  },
  {
   "cell_type": "code",
   "execution_count": 14,
   "id": "75a1ecb3",
   "metadata": {},
   "outputs": [
    {
     "data": {
      "text/html": [
       "<div>\n",
       "<style scoped>\n",
       "    .dataframe tbody tr th:only-of-type {\n",
       "        vertical-align: middle;\n",
       "    }\n",
       "\n",
       "    .dataframe tbody tr th {\n",
       "        vertical-align: top;\n",
       "    }\n",
       "\n",
       "    .dataframe thead th {\n",
       "        text-align: right;\n",
       "    }\n",
       "</style>\n",
       "<table border=\"1\" class=\"dataframe\">\n",
       "  <thead>\n",
       "    <tr style=\"text-align: right;\">\n",
       "      <th></th>\n",
       "      <th>Feature Importance</th>\n",
       "    </tr>\n",
       "  </thead>\n",
       "  <tbody>\n",
       "    <tr>\n",
       "      <th>CreditScore</th>\n",
       "      <td>0.027313</td>\n",
       "    </tr>\n",
       "    <tr>\n",
       "      <th>Tenure</th>\n",
       "      <td>0.009826</td>\n",
       "    </tr>\n",
       "    <tr>\n",
       "      <th>Balance</th>\n",
       "      <td>0.396275</td>\n",
       "    </tr>\n",
       "    <tr>\n",
       "      <th>NumOfProducts</th>\n",
       "      <td>0.172782</td>\n",
       "    </tr>\n",
       "    <tr>\n",
       "      <th>HasCrCard</th>\n",
       "      <td>0.008098</td>\n",
       "    </tr>\n",
       "    <tr>\n",
       "      <th>IsActiveMember</th>\n",
       "      <td>0.155053</td>\n",
       "    </tr>\n",
       "    <tr>\n",
       "      <th>EstimatedSalary</th>\n",
       "      <td>0.019222</td>\n",
       "    </tr>\n",
       "    <tr>\n",
       "      <th>Geography_Germany</th>\n",
       "      <td>0.107736</td>\n",
       "    </tr>\n",
       "    <tr>\n",
       "      <th>Geography_Spain</th>\n",
       "      <td>0.045447</td>\n",
       "    </tr>\n",
       "    <tr>\n",
       "      <th>Gender_Male</th>\n",
       "      <td>0.005444</td>\n",
       "    </tr>\n",
       "    <tr>\n",
       "      <th>Age_Senier</th>\n",
       "      <td>0.021561</td>\n",
       "    </tr>\n",
       "    <tr>\n",
       "      <th>Age_Teenage</th>\n",
       "      <td>0.018033</td>\n",
       "    </tr>\n",
       "    <tr>\n",
       "      <th>Age_young Adult</th>\n",
       "      <td>0.013208</td>\n",
       "    </tr>\n",
       "  </tbody>\n",
       "</table>\n",
       "</div>"
      ],
      "text/plain": [
       "                   Feature Importance\n",
       "CreditScore                  0.027313\n",
       "Tenure                       0.009826\n",
       "Balance                      0.396275\n",
       "NumOfProducts                0.172782\n",
       "HasCrCard                    0.008098\n",
       "IsActiveMember               0.155053\n",
       "EstimatedSalary              0.019222\n",
       "Geography_Germany            0.107736\n",
       "Geography_Spain              0.045447\n",
       "Gender_Male                  0.005444\n",
       "Age_Senier                   0.021561\n",
       "Age_Teenage                  0.018033\n",
       "Age_young Adult              0.013208"
      ]
     },
     "execution_count": 14,
     "metadata": {},
     "output_type": "execute_result"
    }
   ],
   "source": [
    "feats = pd.DataFrame(data = hpmodel.feature_importances_,\n",
    "                    index = x.columns,\n",
    "                     columns = [\"Feature Importance\"])\n",
    "\n",
    "feats"
   ]
  },
  {
   "cell_type": "code",
   "execution_count": 15,
   "id": "3cf74185",
   "metadata": {},
   "outputs": [
    {
     "data": {
      "text/html": [
       "<div>\n",
       "<style scoped>\n",
       "    .dataframe tbody tr th:only-of-type {\n",
       "        vertical-align: middle;\n",
       "    }\n",
       "\n",
       "    .dataframe tbody tr th {\n",
       "        vertical-align: top;\n",
       "    }\n",
       "\n",
       "    .dataframe thead th {\n",
       "        text-align: right;\n",
       "    }\n",
       "</style>\n",
       "<table border=\"1\" class=\"dataframe\">\n",
       "  <thead>\n",
       "    <tr style=\"text-align: right;\">\n",
       "      <th></th>\n",
       "      <th>Feature Importance</th>\n",
       "    </tr>\n",
       "  </thead>\n",
       "  <tbody>\n",
       "    <tr>\n",
       "      <th>CreditScore</th>\n",
       "      <td>0.027313</td>\n",
       "    </tr>\n",
       "    <tr>\n",
       "      <th>Balance</th>\n",
       "      <td>0.396275</td>\n",
       "    </tr>\n",
       "    <tr>\n",
       "      <th>NumOfProducts</th>\n",
       "      <td>0.172782</td>\n",
       "    </tr>\n",
       "    <tr>\n",
       "      <th>IsActiveMember</th>\n",
       "      <td>0.155053</td>\n",
       "    </tr>\n",
       "    <tr>\n",
       "      <th>EstimatedSalary</th>\n",
       "      <td>0.019222</td>\n",
       "    </tr>\n",
       "    <tr>\n",
       "      <th>Geography_Germany</th>\n",
       "      <td>0.107736</td>\n",
       "    </tr>\n",
       "    <tr>\n",
       "      <th>Geography_Spain</th>\n",
       "      <td>0.045447</td>\n",
       "    </tr>\n",
       "    <tr>\n",
       "      <th>Age_Senier</th>\n",
       "      <td>0.021561</td>\n",
       "    </tr>\n",
       "    <tr>\n",
       "      <th>Age_Teenage</th>\n",
       "      <td>0.018033</td>\n",
       "    </tr>\n",
       "    <tr>\n",
       "      <th>Age_young Adult</th>\n",
       "      <td>0.013208</td>\n",
       "    </tr>\n",
       "  </tbody>\n",
       "</table>\n",
       "</div>"
      ],
      "text/plain": [
       "                   Feature Importance\n",
       "CreditScore                  0.027313\n",
       "Balance                      0.396275\n",
       "NumOfProducts                0.172782\n",
       "IsActiveMember               0.155053\n",
       "EstimatedSalary              0.019222\n",
       "Geography_Germany            0.107736\n",
       "Geography_Spain              0.045447\n",
       "Age_Senier                   0.021561\n",
       "Age_Teenage                  0.018033\n",
       "Age_young Adult              0.013208"
      ]
     },
     "execution_count": 15,
     "metadata": {},
     "output_type": "execute_result"
    }
   ],
   "source": [
    "import_feature = feats[feats[\"Feature Importance\"]>0.01]\n",
    "\n",
    "import_feature"
   ]
  },
  {
   "cell_type": "code",
   "execution_count": 16,
   "id": "d469fcb8",
   "metadata": {},
   "outputs": [
    {
     "data": {
      "text/plain": [
       "['CreditScore',\n",
       " 'Balance',\n",
       " 'NumOfProducts',\n",
       " 'IsActiveMember',\n",
       " 'EstimatedSalary',\n",
       " 'Geography_Germany',\n",
       " 'Geography_Spain',\n",
       " 'Age_Senier',\n",
       " 'Age_Teenage',\n",
       " 'Age_young Adult']"
      ]
     },
     "execution_count": 16,
     "metadata": {},
     "output_type": "execute_result"
    }
   ],
   "source": [
    "import_feature_list = import_feature.index.to_list()\n",
    "\n",
    "import_feature_list"
   ]
  },
  {
   "cell_type": "code",
   "execution_count": 17,
   "id": "b1c7ba4b",
   "metadata": {},
   "outputs": [
    {
     "name": "stdout",
     "output_type": "stream",
     "text": [
      "Train accuracy : 0.8207410098074828\n",
      "Test accuracy  :  0.8119099491648512\n",
      "Cross val score :  0.8278368884160038\n"
     ]
    }
   ],
   "source": [
    "from sklearn.tree import DecisionTreeClassifier\n",
    "model = DecisionTreeClassifier(criterion=\"entropy\",max_depth=9,random_state=0)\n",
    "model.fit(x_train_res,y_train_res)\n",
    "\n",
    "### prediction\n",
    "ypred_train = model.predict(x_train)\n",
    "ypred_test = model.predict(x_test)\n",
    "\n",
    "### accuracy score\n",
    "\n",
    "from sklearn.metrics import accuracy_score\n",
    "print(\"Train accuracy :\", accuracy_score(y_train,ypred_train))\n",
    "print(\"Test accuracy  : \", accuracy_score(y_test,ypred_test))\n",
    "\n",
    "from sklearn.model_selection import cross_val_score\n",
    "print(\"Cross val score : \", cross_val_score(model,x,y,cv=5).mean())"
   ]
  },
  {
   "cell_type": "code",
   "execution_count": 18,
   "id": "9bf12e62",
   "metadata": {},
   "outputs": [
    {
     "data": {
      "text/plain": [
       "array([[837, 118],\n",
       "       [141, 281]], dtype=int64)"
      ]
     },
     "execution_count": 18,
     "metadata": {},
     "output_type": "execute_result"
    }
   ],
   "source": [
    "from sklearn.metrics import confusion_matrix\n",
    "confusion_matrix(y_test,ypred_test) ## Here false is 8%"
   ]
  },
  {
   "cell_type": "markdown",
   "id": "575f84cb",
   "metadata": {},
   "source": [
    "### Ada boost\n"
   ]
  },
  {
   "cell_type": "code",
   "execution_count": 19,
   "id": "6c273b45",
   "metadata": {},
   "outputs": [
    {
     "name": "stdout",
     "output_type": "stream",
     "text": [
      "Accuracy of train : 0.7764257173992009\n",
      "Accuracy of test :  0.7857661583151779\n",
      "cross validation score : 0.8320482047254734\n"
     ]
    }
   ],
   "source": [
    "### Train the model\n",
    "from sklearn.ensemble import AdaBoostClassifier\n",
    "model = AdaBoostClassifier()\n",
    "model.fit(x_train_res,y_train_res)\n",
    "\n",
    "\n",
    "### Prediction\n",
    "ypred_train = model.predict(x_train)\n",
    "ypred_test  = model.predict(x_test)\n",
    "\n",
    "### Accuracy score\n",
    "from sklearn.metrics import accuracy_score\n",
    "print(\"Accuracy of train :\",accuracy_score(y_train,ypred_train))\n",
    "print(\"Accuracy of test : \",accuracy_score(y_test,ypred_test))\n",
    "\n",
    "## Cross Validation score\n",
    "from sklearn.model_selection import cross_val_score\n",
    "print(\"cross validation score :\", cross_val_score(model,x,y,cv=5).mean())"
   ]
  },
  {
   "cell_type": "code",
   "execution_count": 20,
   "id": "eae37716",
   "metadata": {},
   "outputs": [
    {
     "data": {
      "text/plain": [
       "{'learning_rate': 0.9, 'n_estimators': 19}"
      ]
     },
     "execution_count": 20,
     "metadata": {},
     "output_type": "execute_result"
    }
   ],
   "source": [
    "from sklearn.model_selection import GridSearchCV\n",
    "\n",
    "## Model/estimator\n",
    "estimator = AdaBoostClassifier()\n",
    "\n",
    "## Parametor grid\n",
    "param_grid = {\"n_estimators\":list(range(1,20)),\"learning_rate\":[0.1,0.2,0.3,0.4,0.5,0.6,0.7,0.8,0.9,1]}\n",
    " ### n_estimeter = list(range(1,100)) \n",
    "    \n",
    "    \n",
    "## Grid search \n",
    "grid = GridSearchCV(estimator, param_grid, cv=5, scoring=\"accuracy\")\n",
    "\n",
    "\n",
    "## Fit the model\n",
    "grid.fit(x_train_res,y_train_res)\n",
    "\n",
    "\n",
    "### Best Parameter for ada boost \n",
    "grid.best_params_"
   ]
  },
  {
   "cell_type": "code",
   "execution_count": 21,
   "id": "107174cb",
   "metadata": {},
   "outputs": [
    {
     "data": {
      "text/plain": [
       "array([0.05263158, 0.21052632, 0.21052632, 0.15789474, 0.05263158,\n",
       "       0.05263158, 0.        , 0.10526316, 0.05263158, 0.        ,\n",
       "       0.05263158, 0.05263158, 0.        ])"
      ]
     },
     "execution_count": 21,
     "metadata": {},
     "output_type": "execute_result"
    }
   ],
   "source": [
    "grid.best_estimator_.feature_importances_"
   ]
  },
  {
   "cell_type": "code",
   "execution_count": 22,
   "id": "56d1bc2b",
   "metadata": {},
   "outputs": [
    {
     "data": {
      "text/html": [
       "<div>\n",
       "<style scoped>\n",
       "    .dataframe tbody tr th:only-of-type {\n",
       "        vertical-align: middle;\n",
       "    }\n",
       "\n",
       "    .dataframe tbody tr th {\n",
       "        vertical-align: top;\n",
       "    }\n",
       "\n",
       "    .dataframe thead th {\n",
       "        text-align: right;\n",
       "    }\n",
       "</style>\n",
       "<table border=\"1\" class=\"dataframe\">\n",
       "  <thead>\n",
       "    <tr style=\"text-align: right;\">\n",
       "      <th></th>\n",
       "      <th>Importances</th>\n",
       "    </tr>\n",
       "  </thead>\n",
       "  <tbody>\n",
       "    <tr>\n",
       "      <th>CreditScore</th>\n",
       "      <td>0.052632</td>\n",
       "    </tr>\n",
       "    <tr>\n",
       "      <th>Tenure</th>\n",
       "      <td>0.210526</td>\n",
       "    </tr>\n",
       "    <tr>\n",
       "      <th>Balance</th>\n",
       "      <td>0.210526</td>\n",
       "    </tr>\n",
       "    <tr>\n",
       "      <th>NumOfProducts</th>\n",
       "      <td>0.157895</td>\n",
       "    </tr>\n",
       "    <tr>\n",
       "      <th>HasCrCard</th>\n",
       "      <td>0.052632</td>\n",
       "    </tr>\n",
       "    <tr>\n",
       "      <th>IsActiveMember</th>\n",
       "      <td>0.052632</td>\n",
       "    </tr>\n",
       "    <tr>\n",
       "      <th>Geography_Germany</th>\n",
       "      <td>0.105263</td>\n",
       "    </tr>\n",
       "    <tr>\n",
       "      <th>Geography_Spain</th>\n",
       "      <td>0.052632</td>\n",
       "    </tr>\n",
       "    <tr>\n",
       "      <th>Age_Senier</th>\n",
       "      <td>0.052632</td>\n",
       "    </tr>\n",
       "    <tr>\n",
       "      <th>Age_Teenage</th>\n",
       "      <td>0.052632</td>\n",
       "    </tr>\n",
       "  </tbody>\n",
       "</table>\n",
       "</div>"
      ],
      "text/plain": [
       "                   Importances\n",
       "CreditScore           0.052632\n",
       "Tenure                0.210526\n",
       "Balance               0.210526\n",
       "NumOfProducts         0.157895\n",
       "HasCrCard             0.052632\n",
       "IsActiveMember        0.052632\n",
       "Geography_Germany     0.105263\n",
       "Geography_Spain       0.052632\n",
       "Age_Senier            0.052632\n",
       "Age_Teenage           0.052632"
      ]
     },
     "execution_count": 22,
     "metadata": {},
     "output_type": "execute_result"
    }
   ],
   "source": [
    "feats = pd.DataFrame(data=grid.best_estimator_.feature_importances_,\n",
    "                     index = x.columns,\n",
    "                     columns=[\"Importances\"])\n",
    "\n",
    "important_features = feats[feats[\"Importances\"]>0]\n",
    "important_features"
   ]
  },
  {
   "cell_type": "code",
   "execution_count": 23,
   "id": "46e233c6",
   "metadata": {},
   "outputs": [
    {
     "data": {
      "text/plain": [
       "['CreditScore',\n",
       " 'Tenure',\n",
       " 'Balance',\n",
       " 'NumOfProducts',\n",
       " 'HasCrCard',\n",
       " 'IsActiveMember',\n",
       " 'Geography_Germany',\n",
       " 'Geography_Spain',\n",
       " 'Age_Senier',\n",
       " 'Age_Teenage']"
      ]
     },
     "execution_count": 23,
     "metadata": {},
     "output_type": "execute_result"
    }
   ],
   "source": [
    "important_features_list = important_features.index.to_list()\n",
    "important_features_list"
   ]
  },
  {
   "cell_type": "code",
   "execution_count": 24,
   "id": "4072f3a3",
   "metadata": {},
   "outputs": [
    {
     "name": "stdout",
     "output_type": "stream",
     "text": [
      "acuracy train : 0.770250635670178\n",
      "accuracy test : 0.7785039941902687\n",
      "cross val score : 0.8089461839860836\n"
     ]
    }
   ],
   "source": [
    "## Modelling\n",
    "from sklearn.ensemble import AdaBoostClassifier\n",
    "model = AdaBoostClassifier(n_estimators=19,learning_rate=0.9)\n",
    "model.fit(x_train_res[important_features_list],y_train_res)\n",
    "\n",
    "### Predicted \n",
    "ypred_train = model.predict(x_train[important_features_list])\n",
    "ypred_test  = model.predict(x_test[important_features_list])\n",
    "\n",
    "## Evaluation \n",
    "from sklearn.metrics import accuracy_score\n",
    "print(\"acuracy train :\",accuracy_score(y_train,ypred_train))\n",
    "print(\"accuracy test :\",accuracy_score(y_test,ypred_test))\n",
    "\n",
    "## Cross Validation score\n",
    "from sklearn.model_selection import cross_val_score\n",
    "print(\"cross val score :\",cross_val_score(model,x[important_features_list],y,cv=5).mean())"
   ]
  },
  {
   "cell_type": "code",
   "execution_count": 25,
   "id": "3139f4f2",
   "metadata": {},
   "outputs": [
    {
     "data": {
      "text/plain": [
       "array([[808, 147],\n",
       "       [158, 264]], dtype=int64)"
      ]
     },
     "execution_count": 25,
     "metadata": {},
     "output_type": "execute_result"
    }
   ],
   "source": [
    "from sklearn.metrics import confusion_matrix\n",
    "confusion_matrix(y_test,ypred_test) ## Here false is 10%"
   ]
  },
  {
   "cell_type": "markdown",
   "id": "0b550812",
   "metadata": {},
   "source": [
    "### Gradient Boost"
   ]
  },
  {
   "cell_type": "code",
   "execution_count": 26,
   "id": "156e2eb8",
   "metadata": {},
   "outputs": [
    {
     "name": "stdout",
     "output_type": "stream",
     "text": [
      "Accuracy of train : 0.8349073737740647\n",
      "Accuracy of test :  0.8402323892519971\n",
      "cross validation score : 0.8396042331661346\n"
     ]
    }
   ],
   "source": [
    "## Traing the model\n",
    "from sklearn.ensemble import GradientBoostingClassifier\n",
    "model = GradientBoostingClassifier()\n",
    "model.fit(x_train_res,y_train_res)\n",
    "\n",
    "### Prediction\n",
    "ypred_train = model.predict(x_train)\n",
    "ypred_test  =model.predict(x_test)\n",
    "\n",
    "### Accuracy score\n",
    "from sklearn.metrics import accuracy_score\n",
    "print(\"Accuracy of train :\",accuracy_score(y_train,ypred_train))\n",
    "print(\"Accuracy of test : \",accuracy_score(y_test,ypred_test))\n",
    "\n",
    "## Cross Validation score\n",
    "from sklearn.model_selection import cross_val_score\n",
    "print(\"cross validation score :\", cross_val_score(model,x,y,cv=5).mean())"
   ]
  },
  {
   "cell_type": "code",
   "execution_count": 27,
   "id": "8da988ef",
   "metadata": {},
   "outputs": [
    {
     "data": {
      "text/plain": [
       "array([[884,  71],\n",
       "       [149, 273]], dtype=int64)"
      ]
     },
     "execution_count": 27,
     "metadata": {},
     "output_type": "execute_result"
    }
   ],
   "source": [
    "from sklearn.metrics import confusion_matrix\n",
    "confusion_matrix(y_test,ypred_test) ## Here false is 1.5%"
   ]
  },
  {
   "cell_type": "code",
   "execution_count": 20,
   "id": "85cbd839",
   "metadata": {},
   "outputs": [
    {
     "data": {
      "text/plain": [
       "220"
      ]
     },
     "execution_count": 20,
     "metadata": {},
     "output_type": "execute_result"
    }
   ],
   "source": [
    "149+71"
   ]
  },
  {
   "cell_type": "markdown",
   "id": "20c35fa4",
   "metadata": {},
   "source": [
    "### Hyper parameter tuning"
   ]
  },
  {
   "cell_type": "code",
   "execution_count": 28,
   "id": "ed8b2510",
   "metadata": {},
   "outputs": [
    {
     "name": "stdout",
     "output_type": "stream",
     "text": [
      "{'learning_rate': 0.2, 'n_estimators': 50}\n",
      "GradientBoostingClassifier(learning_rate=0.2, n_estimators=50)\n"
     ]
    }
   ],
   "source": [
    "from sklearn.model_selection import GridSearchCV\n",
    "\n",
    "\n",
    "## Model/estimator\n",
    "estimator = GradientBoostingClassifier()\n",
    "\n",
    "## Parameter grid\n",
    "param_grid = {\"n_estimators\": [1, 5, 10, 20, 40, 45,50],\n",
    "              \"learning_rate\": [0.1, 0.2, 0.3,0.4,0.5,0.6]}\n",
    "\n",
    "## Grid search \n",
    "grid = GridSearchCV(estimator, param_grid, cv=5, scoring=\"accuracy\")\n",
    "\n",
    "## Fit the model\n",
    "grid.fit(x_train, y_train)\n",
    "\n",
    "### Best Parameter for ada boost \n",
    "print(grid.best_params_)\n",
    "print(grid.best_estimator_)\n"
   ]
  },
  {
   "cell_type": "code",
   "execution_count": 29,
   "id": "228d642b",
   "metadata": {},
   "outputs": [
    {
     "data": {
      "text/plain": [
       "array([1.41626477e-02, 1.72479863e-03, 4.37854281e-01, 2.22422755e-01,\n",
       "       2.74450171e-04, 5.52414644e-02, 2.21332124e-02, 6.82188202e-02,\n",
       "       4.16846874e-03, 1.29434854e-02, 3.79459701e-03, 9.54056698e-02,\n",
       "       6.16553496e-02])"
      ]
     },
     "execution_count": 29,
     "metadata": {},
     "output_type": "execute_result"
    }
   ],
   "source": [
    "grid.best_estimator_.feature_importances_"
   ]
  },
  {
   "cell_type": "code",
   "execution_count": 30,
   "id": "23e089b1",
   "metadata": {},
   "outputs": [
    {
     "data": {
      "text/html": [
       "<div>\n",
       "<style scoped>\n",
       "    .dataframe tbody tr th:only-of-type {\n",
       "        vertical-align: middle;\n",
       "    }\n",
       "\n",
       "    .dataframe tbody tr th {\n",
       "        vertical-align: top;\n",
       "    }\n",
       "\n",
       "    .dataframe thead th {\n",
       "        text-align: right;\n",
       "    }\n",
       "</style>\n",
       "<table border=\"1\" class=\"dataframe\">\n",
       "  <thead>\n",
       "    <tr style=\"text-align: right;\">\n",
       "      <th></th>\n",
       "      <th>Importances</th>\n",
       "    </tr>\n",
       "  </thead>\n",
       "  <tbody>\n",
       "    <tr>\n",
       "      <th>CreditScore</th>\n",
       "      <td>0.014163</td>\n",
       "    </tr>\n",
       "    <tr>\n",
       "      <th>Balance</th>\n",
       "      <td>0.437854</td>\n",
       "    </tr>\n",
       "    <tr>\n",
       "      <th>NumOfProducts</th>\n",
       "      <td>0.222423</td>\n",
       "    </tr>\n",
       "    <tr>\n",
       "      <th>IsActiveMember</th>\n",
       "      <td>0.055241</td>\n",
       "    </tr>\n",
       "    <tr>\n",
       "      <th>EstimatedSalary</th>\n",
       "      <td>0.022133</td>\n",
       "    </tr>\n",
       "    <tr>\n",
       "      <th>Geography_Germany</th>\n",
       "      <td>0.068219</td>\n",
       "    </tr>\n",
       "    <tr>\n",
       "      <th>Gender_Male</th>\n",
       "      <td>0.012943</td>\n",
       "    </tr>\n",
       "    <tr>\n",
       "      <th>Age_Teenage</th>\n",
       "      <td>0.095406</td>\n",
       "    </tr>\n",
       "    <tr>\n",
       "      <th>Age_young Adult</th>\n",
       "      <td>0.061655</td>\n",
       "    </tr>\n",
       "  </tbody>\n",
       "</table>\n",
       "</div>"
      ],
      "text/plain": [
       "                   Importances\n",
       "CreditScore           0.014163\n",
       "Balance               0.437854\n",
       "NumOfProducts         0.222423\n",
       "IsActiveMember        0.055241\n",
       "EstimatedSalary       0.022133\n",
       "Geography_Germany     0.068219\n",
       "Gender_Male           0.012943\n",
       "Age_Teenage           0.095406\n",
       "Age_young Adult       0.061655"
      ]
     },
     "execution_count": 30,
     "metadata": {},
     "output_type": "execute_result"
    }
   ],
   "source": [
    "feats = pd.DataFrame(data=grid.best_estimator_.feature_importances_,\n",
    "                     index = x.columns,\n",
    "                     columns=[\"Importances\"])\n",
    "\n",
    "important_features = feats[feats[\"Importances\"]>0.01]\n",
    "important_features"
   ]
  },
  {
   "cell_type": "code",
   "execution_count": 31,
   "id": "73816e12",
   "metadata": {},
   "outputs": [
    {
     "data": {
      "text/plain": [
       "['CreditScore',\n",
       " 'Balance',\n",
       " 'NumOfProducts',\n",
       " 'IsActiveMember',\n",
       " 'EstimatedSalary',\n",
       " 'Geography_Germany',\n",
       " 'Gender_Male',\n",
       " 'Age_Teenage',\n",
       " 'Age_young Adult']"
      ]
     },
     "execution_count": 31,
     "metadata": {},
     "output_type": "execute_result"
    }
   ],
   "source": [
    "important_features_list = important_features.index.to_list()\n",
    "important_features_list"
   ]
  },
  {
   "cell_type": "code",
   "execution_count": 32,
   "id": "aa5285e1",
   "metadata": {},
   "outputs": [
    {
     "name": "stdout",
     "output_type": "stream",
     "text": [
      "acuracy train : 0.8398111151471123\n",
      "accuracy test : 0.8300653594771242\n",
      "cross val score : 0.8396044442755569\n"
     ]
    }
   ],
   "source": [
    "from sklearn.ensemble import GradientBoostingClassifier\n",
    "model = GradientBoostingClassifier(learning_rate=0.4,n_estimators= 40)\n",
    "model.fit(x_train_res[important_features_list],y_train_res)\n",
    "\n",
    "### Predicted \n",
    "ypred_train = model.predict(x_train[important_features_list])\n",
    "ypred_test  = model.predict(x_test[important_features_list])\n",
    "\n",
    "## Evaluation \n",
    "from sklearn.metrics import accuracy_score\n",
    "print(\"acuracy train :\",accuracy_score(y_train,ypred_train))\n",
    "print(\"accuracy test :\",accuracy_score(y_test,ypred_test))\n",
    "\n",
    "## Cross Validation score\n",
    "from sklearn.model_selection import cross_val_score\n",
    "print(\"cross val score :\",cross_val_score(model,x[important_features_list],y,cv=5).mean())"
   ]
  },
  {
   "cell_type": "code",
   "execution_count": 33,
   "id": "7126d24e",
   "metadata": {},
   "outputs": [
    {
     "data": {
      "text/plain": [
       "array([[851, 104],\n",
       "       [130, 292]], dtype=int64)"
      ]
     },
     "execution_count": 33,
     "metadata": {},
     "output_type": "execute_result"
    }
   ],
   "source": [
    "from sklearn.metrics import confusion_matrix\n",
    "confusion_matrix(y_test,ypred_test) ## Here false is 7.5%"
   ]
  },
  {
   "cell_type": "markdown",
   "id": "68318f06",
   "metadata": {},
   "source": [
    "### XG Boost"
   ]
  },
  {
   "cell_type": "code",
   "execution_count": 10,
   "id": "08fb4276",
   "metadata": {},
   "outputs": [
    {
     "name": "stdout",
     "output_type": "stream",
     "text": [
      "Accuracy of train : 0.9380675626589176\n",
      "Accuracy of test : 0.8206245461147422\n",
      "cross validation score : 0.8340825606728479\n"
     ]
    }
   ],
   "source": [
    "## Modelling training\n",
    "from xgboost import XGBClassifier\n",
    "model = XGBClassifier()\n",
    "model.fit(x_train_res,y_train_res)\n",
    "\n",
    "### predict\n",
    "ypred_train = model.predict(x_train)\n",
    "ypred_test = model.predict(x_test)\n",
    "\n",
    "### Acuuracy score\n",
    "from sklearn.metrics import accuracy_score\n",
    "print(\"Accuracy of train :\",accuracy_score(y_train,ypred_train))\n",
    "print(\"Accuracy of test :\",accuracy_score(y_test,ypred_test))\n",
    "\n",
    "## cross validation score\n",
    "from sklearn.model_selection import cross_val_score\n",
    "print(\"cross validation score :\",cross_val_score(model,x,y,cv=5).mean())"
   ]
  },
  {
   "cell_type": "code",
   "execution_count": 11,
   "id": "6d430b34",
   "metadata": {},
   "outputs": [
    {
     "data": {
      "text/plain": [
       "{'gamma': 0.8, 'max_depth': 7, 'n_estimators': 7}"
      ]
     },
     "execution_count": 11,
     "metadata": {},
     "output_type": "execute_result"
    }
   ],
   "source": [
    "from sklearn.model_selection import GridSearchCV\n",
    "\n",
    "## model/estimater\n",
    "estimator = XGBClassifier()\n",
    "\n",
    "## parameter Grid\n",
    "param_grid = {\"n_estimators\" : list(range(1,20)),\n",
    "              \"max_depth\" : [1,2,3,4,5,6,7,8,9,10],\n",
    "              \"gamma\" : [0,0.1,0.2,0.3,0.4,0.5,0.6,0.7,0.8,0.91]}\n",
    "\n",
    "## grid search \n",
    "grid = GridSearchCV(estimator,param_grid,cv=5,scoring=\"accuracy\")\n",
    "\n",
    "## Fit the data\n",
    "grid.fit(x_train_res,y_train_res)\n",
    "\n",
    "## Best param for XB method\n",
    "grid.best_params_"
   ]
  },
  {
   "cell_type": "code",
   "execution_count": 12,
   "id": "e405c240",
   "metadata": {},
   "outputs": [
    {
     "data": {
      "text/plain": [
       "array([0.01074599, 0.00834026, 0.17048994, 0.2098177 , 0.01001363,\n",
       "       0.11161454, 0.00760726, 0.04589852, 0.01864763, 0.02035589,\n",
       "       0.01773766, 0.10356292, 0.26516807], dtype=float32)"
      ]
     },
     "execution_count": 12,
     "metadata": {},
     "output_type": "execute_result"
    }
   ],
   "source": [
    "grid.best_estimator_.feature_importances_"
   ]
  },
  {
   "cell_type": "code",
   "execution_count": 13,
   "id": "48dec44e",
   "metadata": {},
   "outputs": [],
   "source": [
    "feats = pd.DataFrame(data=grid.best_estimator_.feature_importances_,\n",
    "                     index=x.columns,\n",
    "                     columns=[\"Importances\"])\n"
   ]
  },
  {
   "cell_type": "code",
   "execution_count": 14,
   "id": "d62a6077",
   "metadata": {},
   "outputs": [
    {
     "name": "stdout",
     "output_type": "stream",
     "text": [
      "['CreditScore', 'Balance', 'NumOfProducts', 'HasCrCard', 'IsActiveMember', 'Geography_Germany', 'Geography_Spain', 'Gender_Male', 'Age_Senier', 'Age_Teenage', 'Age_young Adult']\n"
     ]
    }
   ],
   "source": [
    "important_feature = feats[feats['Importances']>0.01]\n",
    "\n",
    "important_feature_list = important_feature.index.to_list()\n",
    "print(important_feature_list)"
   ]
  },
  {
   "cell_type": "code",
   "execution_count": 17,
   "id": "6bc932a0",
   "metadata": {},
   "outputs": [
    {
     "name": "stdout",
     "output_type": "stream",
     "text": [
      "Accuracy of train : 0.829095532146749\n",
      "Accuracy of test : 0.8293391430646333\n",
      "cross validation score : 0.8369884818699228\n"
     ]
    }
   ],
   "source": [
    "## Learn the model\n",
    "from xgboost import XGBClassifier\n",
    "model = XGBClassifier(gamma = 0.8, max_depth = 7, n_estimators = 7)\n",
    "model.fit(x_train_res[important_feature_list],y_train_res)\n",
    "\n",
    "### predict\n",
    "ypred_train = model.predict(x_train[important_feature_list])\n",
    "ypred_test = model.predict(x_test[important_feature_list])\n",
    "\n",
    "### Acuuracy score\n",
    "from sklearn.metrics import accuracy_score\n",
    "print(\"Accuracy of train :\",accuracy_score(y_train,ypred_train))\n",
    "print(\"Accuracy of test :\",accuracy_score(y_test,ypred_test))\n",
    "\n",
    "## cross validation score\n",
    "from sklearn.model_selection import cross_val_score\n",
    "print(\"cross validation score :\",cross_val_score(model,x,y,cv=5).mean())"
   ]
  },
  {
   "cell_type": "code",
   "execution_count": 18,
   "id": "6e43e878",
   "metadata": {},
   "outputs": [
    {
     "data": {
      "text/plain": [
       "array([[850, 105],\n",
       "       [130, 292]], dtype=int64)"
      ]
     },
     "execution_count": 18,
     "metadata": {},
     "output_type": "execute_result"
    }
   ],
   "source": [
    "from sklearn.metrics import confusion_matrix\n",
    "confusion_matrix(y_test,ypred_test) ## 15"
   ]
  },
  {
   "cell_type": "code",
   "execution_count": 19,
   "id": "2dbcb0b2",
   "metadata": {},
   "outputs": [
    {
     "data": {
      "text/plain": [
       "235"
      ]
     },
     "execution_count": 19,
     "metadata": {},
     "output_type": "execute_result"
    }
   ],
   "source": [
    "105+130"
   ]
  },
  {
   "cell_type": "markdown",
   "id": "9c6e27fc",
   "metadata": {},
   "source": [
    "Among all algorithms, Gradient Boosting yields good results compared to others."
   ]
  },
  {
   "cell_type": "code",
   "execution_count": 22,
   "id": "c541bcd5",
   "metadata": {},
   "outputs": [
    {
     "name": "stdout",
     "output_type": "stream",
     "text": [
      "Accuracy of train : 0.8349073737740647\n",
      "Accuracy of test :  0.8402323892519971\n",
      "cross validation score : 0.8396042331661346\n"
     ]
    }
   ],
   "source": [
    "## Traing the model\n",
    "from sklearn.ensemble import GradientBoostingClassifier\n",
    "model = GradientBoostingClassifier()\n",
    "model.fit(x_train_res,y_train_res)\n",
    "\n",
    "### Prediction\n",
    "ypred_train = model.predict(x_train)\n",
    "ypred_test  =model.predict(x_test)\n",
    "\n",
    "### Accuracy score\n",
    "from sklearn.metrics import accuracy_score\n",
    "print(\"Accuracy of train :\",accuracy_score(y_train,ypred_train))\n",
    "print(\"Accuracy of test : \",accuracy_score(y_test,ypred_test))\n",
    "\n",
    "## Cross Validation score\n",
    "from sklearn.model_selection import cross_val_score\n",
    "print(\"cross validation score :\", cross_val_score(model,x,y,cv=5).mean())"
   ]
  },
  {
   "cell_type": "code",
   "execution_count": 23,
   "id": "a04ce16e",
   "metadata": {},
   "outputs": [
    {
     "data": {
      "text/plain": [
       "array([[884,  71],\n",
       "       [149, 273]], dtype=int64)"
      ]
     },
     "execution_count": 23,
     "metadata": {},
     "output_type": "execute_result"
    }
   ],
   "source": [
    "from sklearn.metrics import confusion_matrix\n",
    "confusion_matrix(y_test,ypred_test) ## 15"
   ]
  },
  {
   "cell_type": "code",
   "execution_count": 24,
   "id": "3bd5844f",
   "metadata": {},
   "outputs": [
    {
     "name": "stdout",
     "output_type": "stream",
     "text": [
      "              precision    recall  f1-score   support\n",
      "\n",
      "           0       0.86      0.93      0.89       955\n",
      "           1       0.79      0.65      0.71       422\n",
      "\n",
      "    accuracy                           0.84      1377\n",
      "   macro avg       0.82      0.79      0.80      1377\n",
      "weighted avg       0.84      0.84      0.84      1377\n",
      "\n"
     ]
    }
   ],
   "source": [
    "from sklearn.metrics import classification_report\n",
    "print(classification_report(y_test,ypred_test))"
   ]
  },
  {
   "cell_type": "code",
   "execution_count": 26,
   "id": "c4d44038",
   "metadata": {},
   "outputs": [
    {
     "data": {
      "text/plain": [
       "<sklearn.metrics._plot.roc_curve.RocCurveDisplay at 0x2726b98ea90>"
      ]
     },
     "execution_count": 26,
     "metadata": {},
     "output_type": "execute_result"
    },
    {
     "data": {
      "image/png": "[encoded data removed]",
      "text/plain": [
       "<Figure size 640x480 with 1 Axes>"
      ]
     },
     "metadata": {},
     "output_type": "display_data"
    }
   ],
   "source": [
    "from sklearn.metrics import RocCurveDisplay\n",
    "RocCurveDisplay.from_estimator(model,x_test,y_test)"
   ]
  },
  {
   "cell_type": "code",
   "execution_count": 28,
   "id": "e5efb636",
   "metadata": {},
   "outputs": [
    {
     "name": "stdout",
     "output_type": "stream",
     "text": [
      "AUC 0.8538708716905288\n"
     ]
    }
   ],
   "source": [
    "yred_bron = model.predict_proba(x_test)[::,1]\n",
    "from sklearn.metrics import roc_auc_score\n",
    "print(\"AUC\",roc_auc_score(y_test,yred_bron))"
   ]
  },
  {
   "cell_type": "markdown",
   "id": "fcd27cde",
   "metadata": {},
   "source": [
    "### Save Model"
   ]
  },
  {
   "cell_type": "code",
   "execution_count": 32,
   "id": "50f02728",
   "metadata": {},
   "outputs": [
    {
     "data": {
      "text/plain": [
       "['Bank_churn_predict_model.joblib']"
      ]
     },
     "execution_count": 32,
     "metadata": {},
     "output_type": "execute_result"
    }
   ],
   "source": [
    "from joblib import dump\n",
    "dump(model,\"Bank_churn_predict_model.joblib\")"
   ]
  },
  {
   "cell_type": "code",
   "execution_count": null,
   "id": "f53649b7",
   "metadata": {},
   "outputs": [],
   "source": []
  }
 ],
 "metadata": {
  "kernelspec": {
   "display_name": "Python 3 (ipykernel)",
   "language": "python",
   "name": "python3"
  },
  "language_info": {
   "codemirror_mode": {
    "name": "ipython",
    "version": 3
   },
   "file_extension": ".py",
   "mimetype": "text/x-python",
   "name": "python",
   "nbconvert_exporter": "python",
   "pygments_lexer": "ipython3",
   "version": "3.11.5"
  }
 },
 "nbformat": 4,
 "nbformat_minor": 5
}
